{
 "cells": [
  {
   "cell_type": "markdown",
   "metadata": {},
   "source": [
    "\n",
    "# Practica tematica libre\n",
    "### Araceli Macía Barrado\n"
   ]
  },
  {
   "cell_type": "markdown",
   "metadata": {},
   "source": [
    "-------------\n",
    "\n",
    "Para la realización de esta práctica, después de navegar por Internet buscando algo que me interesara, llegue a la página web del Ayuntamiento de Madrid, dado su política de transparencia, en su página web publican muchos datos.\n",
    "\n",
    "Los datos los he descargado de este link:\n",
    "\n",
    "http://datos.madrid.es/\n",
    "\n",
    "\n",
    "Los datos que me han interesados son los relativos a las multas de tráfico.\n",
    "He descargado todos los ficheros disponibles del 2015, es un fichero por mes, a excepcion del mes de Febrero que no lo han publicado correctamente.\n",
    "\n",
    "Esta practica tiene dos noteboook:\n",
    "1. Practica_Final_Multas_1  :  Este notebook, donde leo los ficheros que he descargado de la web, y los preparo y almaceno en un fichero hdf5 para posteriormente analizarlo.\n",
    "2. Practica_Final_Multas_2 : Notebook donde realizo el analisis de los datos de las multas.\n",
    "\n",
    "Lo he hecho así debido al volumen de los datos, al separarlo me facilita mucho al bajar los tiempos de respuesta en la realización del analisis.\n"
   ]
  },
  {
   "cell_type": "code",
   "execution_count": 1,
   "metadata": {
    "collapsed": true
   },
   "outputs": [],
   "source": [
    "import numpy as np\n",
    "import pandas as pd\n",
    "import glob\n",
    "import cProfile"
   ]
  },
  {
   "cell_type": "markdown",
   "metadata": {},
   "source": [
    "## Lectura y preparación de datos."
   ]
  },
  {
   "cell_type": "code",
   "execution_count": 2,
   "metadata": {
    "collapsed": false
   },
   "outputs": [],
   "source": [
    "\n",
    "def ConvMes(x):\n",
    "    meses=[\"ENERO\",\"FEBRERO\",\"MARZO\",\"ABRIL\",\"MAYO\",\"JUNIO\",\"JULIO\",\"AGOSTO\",\"SEPTIEMBRE\",\\\n",
    "           \"OCTUBRE\",\"NOVIEMBRE\",\"DICIEMBRE\"]\n",
    "    \n",
    "    x=str(x)\n",
    "    if (x.isdigit()):\n",
    "        return  int(x) \n",
    "    else:\n",
    "        return int(meses.index(x)+1)\n",
    "\n",
    "def Texto(x):\n",
    "    x=x.encode('utf8')\n",
    "    return x.upper().strip()\n",
    "\n",
    "def ConVelo(x):\n",
    "    x=str(x)      #Los Valores de velocidad solo se rellenan en las multas de exceso de velocidad, Cuando no vengan\n",
    "    if (x.isdigit()):   #rellenos, he decidido poner un 0.\n",
    "        return  int(x) \n",
    "    else: \n",
    "        return 0\n",
    "\n",
    "def CamHora(x):  #Al dato de la hora cambio el caracter de . por : para poder convertirlo a formato tiempo.\n",
    "    x=str(x)      \n",
    "    return x.replace(\".\",\":\")\n"
   ]
  },
  {
   "cell_type": "markdown",
   "metadata": {},
   "source": [
    "Tras realizar varias cargas y visualizar los datos, he ido añadiendo funciones en la carga de los datos, con objetivo de normalizar los datos de los ficheros para poder tratarlos."
   ]
  },
  {
   "cell_type": "code",
   "execution_count": 3,
   "metadata": {
    "collapsed": false
   },
   "outputs": [],
   "source": [
    "ficheros= glob.glob(\"multas/20*.csv\") #almaceno todos los nombres de los 11 ficheros csv que tengo en el directorio.\n",
    "dataTotal=pd.DataFrame()    \n",
    "filas=0                     \n",
    "for fic in ficheros:\n",
    "    data1= pd.read_csv(fic,index_col=None, header=0, sep=\";\", \\\n",
    "                   converters={\"CALIFICACION\":Texto , \"HORA\":CamHora,\\\n",
    "                                \"LUGAR\":Texto,\"DESCUENTO\":Texto,\n",
    "                                \"DENUNCIANTE\":Texto,\"HECHO-BOL\":Texto, \"MES\":ConvMes, \\\n",
    "                                \"VEL_LIMITE\":ConVelo,\"VEL_CIRCULA\":ConVelo },\\\n",
    "                                 encoding=\"latin1\")\n",
    "    filas=filas+ data1.shape[0]\n",
    "    dataTotal=dataTotal.append(data1,ignore_index=True)\n",
    "\n",
    "\n",
    "    "
   ]
  },
  {
   "cell_type": "code",
   "execution_count": 4,
   "metadata": {
    "collapsed": false
   },
   "outputs": [
    {
     "name": "stdout",
     "output_type": "stream",
     "text": [
      "CPU times: user 615 ms, sys: 143 ms, total: 757 ms\n",
      "Wall time: 878 ms\n"
     ]
    }
   ],
   "source": [
    "dataTotal=dataTotal.rename(columns={\"HECHO-BOL\": \"HECHO\"}) #Renombro esta columna, por el caracter -\n",
    "%time dataTotal[\"DHORA\"]=pd.to_datetime(\"2016-01-01 \" + dataTotal.HORA,unit=\"h\") #Genero una columna con la hora en formato timestamp"
   ]
  },
  {
   "cell_type": "code",
   "execution_count": 5,
   "metadata": {
    "collapsed": false
   },
   "outputs": [
    {
     "name": "stdout",
     "output_type": "stream",
     "text": [
      "(1921501, 13)\n",
      "<class 'pandas.core.frame.DataFrame'>\n",
      "Int64Index: 1921501 entries, 0 to 1921500\n",
      "Data columns (total 13 columns):\n",
      "CALIFICACION    object\n",
      "LUGAR           object\n",
      "MES             int64\n",
      "ANIO            int64\n",
      "HORA            object\n",
      "IMP_BOL         float64\n",
      "DESCUENTO       object\n",
      "PUNTOS          int64\n",
      "DENUNCIANTE     object\n",
      "HECHO           object\n",
      "VEL_LIMITE      int64\n",
      "VEL_CIRCULA     int64\n",
      "DHORA           datetime64[ns]\n",
      "dtypes: datetime64[ns](1), float64(1), int64(5), object(6)\n",
      "memory usage: 205.2+ MB\n",
      "None\n"
     ]
    },
    {
     "data": {
      "text/html": [
       "<div>\n",
       "<table border=\"1\" class=\"dataframe\">\n",
       "  <thead>\n",
       "    <tr style=\"text-align: right;\">\n",
       "      <th></th>\n",
       "      <th>CALIFICACION</th>\n",
       "      <th>LUGAR</th>\n",
       "      <th>MES</th>\n",
       "      <th>ANIO</th>\n",
       "      <th>HORA</th>\n",
       "      <th>IMP_BOL</th>\n",
       "      <th>DESCUENTO</th>\n",
       "      <th>PUNTOS</th>\n",
       "      <th>DENUNCIANTE</th>\n",
       "      <th>HECHO</th>\n",
       "      <th>VEL_LIMITE</th>\n",
       "      <th>VEL_CIRCULA</th>\n",
       "      <th>DHORA</th>\n",
       "    </tr>\n",
       "  </thead>\n",
       "  <tbody>\n",
       "    <tr>\n",
       "      <th>0</th>\n",
       "      <td>GRAVE</td>\n",
       "      <td>M 30 04FL12</td>\n",
       "      <td>1</td>\n",
       "      <td>2015</td>\n",
       "      <td>15:50</td>\n",
       "      <td>200.0</td>\n",
       "      <td>SI</td>\n",
       "      <td>0</td>\n",
       "      <td>POLICIA MUNICIPAL</td>\n",
       "      <td>ADELANTAR EN ZIGZAG.</td>\n",
       "      <td>0</td>\n",
       "      <td>0</td>\n",
       "      <td>2016-01-01 15:50:00</td>\n",
       "    </tr>\n",
       "  </tbody>\n",
       "</table>\n",
       "</div>"
      ],
      "text/plain": [
       "  CALIFICACION        LUGAR  MES  ANIO   HORA  IMP_BOL DESCUENTO  PUNTOS  \\\n",
       "0        GRAVE  M 30 04FL12    1  2015  15:50    200.0        SI       0   \n",
       "\n",
       "         DENUNCIANTE                 HECHO  VEL_LIMITE  VEL_CIRCULA  \\\n",
       "0  POLICIA MUNICIPAL  ADELANTAR EN ZIGZAG.           0            0   \n",
       "\n",
       "                DHORA  \n",
       "0 2016-01-01 15:50:00  "
      ]
     },
     "execution_count": 5,
     "metadata": {},
     "output_type": "execute_result"
    }
   ],
   "source": [
    "print dataTotal.shape\n",
    "print dataTotal.info()\n",
    "dataTotal.head(1)"
   ]
  },
  {
   "cell_type": "markdown",
   "metadata": {},
   "source": [
    "Realizo una revisión de los diferentes valores de los datos, para comprobar valores invalidos."
   ]
  },
  {
   "cell_type": "code",
   "execution_count": 6,
   "metadata": {
    "collapsed": false
   },
   "outputs": [
    {
     "name": "stdout",
     "output_type": "stream",
     "text": [
      "['GRAVE' 'LEVE' 'MUY GRAVE']\n",
      "['M 30 04FL12' 'VIRGEN DE LOS PELIGROS 10' 'CASADO DEL ALISAL 9' ...,\n",
      " 'SAN CLAUDIO 43' 'AV RAFAEL ALBERTI 35' 'CJON RUICES-MARTINEZ RIVA']\n",
      "[ 1  3  4  5  6  7  8  9 10 11 12]\n",
      "['SI' 'NO']\n",
      "['POLICIA MUNICIPAL' 'SER' 'AGENTES DE MOVILIDAD' 'SACE']\n",
      "['ADELANTAR EN ZIGZAG.' 'ESTACIONAR EN CARRIL DE CIRCULACION.'\n",
      " 'ESTACIONAR EN LUGAR PROHIBIDO DEBIDAMENTE SE\\xc3\\x91ALIZADO.' ...,\n",
      " 'CONDUCCION NEGLIGENTE: ESTACIONADO SIN MEDIDAS QUE EVITEN MOVIMIENTO CON DA\\xc3\\x91OS'\n",
      " 'CONDUCCION NEGLIGENTE: NO PONER EL FRENO DE MANO Y COLISIONA CON OTRO VEHICULO'\n",
      " 'CONDUCCION NEGLIGENTE: NO ADOPTAR LAS MEDIDAS PRODUCIENDO DA\\xc3\\x91OS']\n"
     ]
    },
    {
     "data": {
      "text/plain": [
       "CALIFICACION    True\n",
       "LUGAR           True\n",
       "MES             True\n",
       "ANIO            True\n",
       "HORA            True\n",
       "IMP_BOL         True\n",
       "DESCUENTO       True\n",
       "PUNTOS          True\n",
       "DENUNCIANTE     True\n",
       "HECHO           True\n",
       "VEL_LIMITE      True\n",
       "VEL_CIRCULA     True\n",
       "DHORA           True\n",
       "dtype: bool"
      ]
     },
     "execution_count": 6,
     "metadata": {},
     "output_type": "execute_result"
    }
   ],
   "source": [
    "\n",
    "print dataTotal.CALIFICACION.unique()\n",
    "print dataTotal.LUGAR.unique()\n",
    "print dataTotal.MES.unique()\n",
    "print dataTotal.DESCUENTO.unique()\n",
    "print dataTotal.DENUNCIANTE.unique()\n",
    "print dataTotal.HECHO.unique()\n",
    "dataTotal.notnull().all()\n",
    "\n",
    "\n"
   ]
  },
  {
   "cell_type": "markdown",
   "metadata": {},
   "source": [
    "Voy a clasificar los datos del campo HECHO para poder trabajar con ellos.\n",
    "Lo voy a realizar \"a mano\" , aunque se que podria hacerlos con un clasificado tipo Kbeans.\n"
   ]
  },
  {
   "cell_type": "code",
   "execution_count": 7,
   "metadata": {
    "collapsed": false
   },
   "outputs": [],
   "source": [
    "def TipoMulta2(x):\n",
    "\n",
    "    estacionar=[\"ESTACI\",\"DESCARGA\",\"DOBLE FILA\"]\n",
    "    cinturon=[\"CINTURON\"]\n",
    "    drogas=[\"ALCOHO\",\"DROG\"]\n",
    "    semaforo=[\"SEMAFO\",\"SEMÁFO\"]\n",
    "    desobediencia=[\"FUGA\",\"NO OBECEDER\",\"DESOBEDE\", \"CONTROL\", \"OMISO\", \"CASO\", \"ZAFAR\", \"NO OBEDECE\", \"PATRULL\", \"CORDON POLICIAL\",\\\n",
    "                   \"SE NIEGA\" , \"ALTO\", \"SALTARSE\",\"SE LE INDICA\", \"SE LE INSTA\", \"SE LE ORDENA\", \"SE LE PROHIBE\" ,\\\n",
    "                    \"SE ORDENA\", \"SE PERCATA\",\"SE RESISTE\", \"SE SALTA CORT\",\"NO COMUNICAR\"]\n",
    "\n",
    "    velocidad=[\"VELOCID\",  \"CONDUCIR\", \"MAS DE 100\"  ]\n",
    "    otrosVEH=[\"CICLO\", \"BICIC\",  \"MONOPAT\"]\n",
    "\n",
    "    circulacion=[\"ATRAVESAR\", \"CAMBI\",  \"CIRCUL\",  \"CONTRARI\",\"ADELANT\",  \"CONDUCCION\", \"COLAPSA\", \"PROHIBIDA\", \"ZIG\", \\\n",
    "                 \"COMPETIC\", \"INVAD\", \"EMBEST\",  \"RESPET\", \"CRUZA\", \"ENTORPE\", \"DETENE\", \"DORMIDO\",\\\n",
    "                 \"REBASA\",\"REGULA\", \"SE DESPLAZA\", \"EQUIVOCA\",\"FRENA\", \"PARAR EN\"]\n",
    "    peaton=[\"PEATON\"]\n",
    "\n",
    "    trompos=[\"CABALLI\", \"TROMPO\", \"PATIN\", \"DERRAP\", \"DESTELL\", \"COMPORTARSE\", \"CHIRRI\",  \"HACIENDO RUEDAS\",\"TIRAN DEL FRENO DE MANO\"]\n",
    "\n",
    "\n",
    "    otrosNegli=[\"CLIENTE\",\"CASCO\",\"SIN GRAVEDAD\", \"REPOSTA\", \"MOTOR\", \"RETIRAR\", \"REVISANDO\", \"ALUMBRADO\", \"MEDIDAS NECESARIAS\" ,\"ESCAYOLA\", \"COME\",\\\n",
    "                \"COMIENDO\",\"ACÚSTIC\", \"TRANSPORT\" , \"ATASCO\", \"MOVIL\", \"ELEMENTOS VEGETALES\",\"NAVEGA\",\"ONA CORTADA\", \"ZONA EXLCUIDA\" , \"VIAJER\"  ]\n",
    "\n",
    "\n",
    "    rdo=\"NO\"\n",
    "    \n",
    "    if (rdo==\"NO\"):\n",
    "        for d1 in desobediencia:\n",
    "            if d1 in x:\n",
    "                rdo=\"DESOBEDIENCIA\"\n",
    "                break\n",
    "                \n",
    "    if (rdo==\"NO\"):            \n",
    "        for d1 in estacionar:\n",
    "            if d1 in x:\n",
    "                rdo=\"ESTACIONAR\"\n",
    "                break\n",
    "\n",
    "    if (rdo==\"NO\"):\n",
    "        for d1 in trompos:\n",
    "            if d1 in x:\n",
    "                rdo=\"TROMPOS\"\n",
    "                break         \n",
    "   \n",
    "    if (rdo==\"NO\"):\n",
    "        for d1 in otrosVEH:\n",
    "            if d1 in x:\n",
    "                rdo=\"OTROSVEH\"\n",
    "                break  \n",
    "                \n",
    "    if (rdo==\"NO\"):\n",
    "        for d1 in cinturon:\n",
    "            if d1 in x:\n",
    "                rdo=\"CINTURON\"\n",
    "                break\n",
    "\n",
    "    if (rdo==\"NO\"):\n",
    "        for d1 in drogas:\n",
    "            if d1 in x:\n",
    "                rdo=\"DROGAS\"\n",
    "                break\n",
    "\n",
    "    if (rdo==\"NO\"):\n",
    "        for d1 in semaforo:\n",
    "            if d1 in x:\n",
    "                rdo=\"SEMAFORO\"\n",
    "                break\n",
    "\n",
    "    if (rdo==\"NO\"):\n",
    "        for d1 in peaton:\n",
    "            if d1 in x:\n",
    "                rdo=\"PEATON\"\n",
    "                break  \n",
    "\n",
    "    \n",
    "\n",
    "    if (rdo==\"NO\"):\n",
    "        for d1 in velocidad:\n",
    "            if d1 in x:\n",
    "                rdo=\"VELOCIDAD\"\n",
    "                break        \n",
    "    if (rdo==\"NO\"):\n",
    "        for d1 in circulacion:\n",
    "            if d1 in x:\n",
    "                rdo=\"CIRCULACION\"\n",
    "                break \n",
    "    \n",
    "    if (rdo==\"NO\"):\n",
    "        for d1 in otrosNegli:\n",
    "            if d1 in x:\n",
    "                rdo=\"VAR_NEGLIGENCIA\"\n",
    "                break   \n",
    "                \n",
    "        \n",
    "       \n",
    "\n",
    "    if (rdo==\"NO\"):\n",
    "          rdo=\"VAR_TEMERARIA\"      \n",
    "\n",
    "    return rdo"
   ]
  },
  {
   "cell_type": "code",
   "execution_count": 8,
   "metadata": {
    "collapsed": false
   },
   "outputs": [
    {
     "name": "stdout",
     "output_type": "stream",
     "text": [
      "CPU times: user 13.3 s, sys: 198 ms, total: 13.5 s\n",
      "Wall time: 14.1 s\n"
     ]
    }
   ],
   "source": [
    "%time dataTotal[\"TIPO\"]=dataTotal[\"HECHO\"].apply(TipoMulta2)"
   ]
  },
  {
   "cell_type": "code",
   "execution_count": 9,
   "metadata": {
    "collapsed": false
   },
   "outputs": [],
   "source": [
    "def TramoHorario(x):  #Funcion para crear tramos horarios a partir de las horas de las multas. \n",
    "    horas=[\"2016-01-01 00:00\",\"2016-01-01 06:00\",\"2016-01-01 08:00\",\\\n",
    "           \"2016-01-01 10:00\",\"2016-01-01 12:00\",\"2016-01-01 14:00\",\\\n",
    "           \"2016-01-01 16:00\",\"2016-01-01 18:00\",\"2016-01-01 21:00\",\"2016-01-01 00:00\"]\n",
    "    horas=pd.to_datetime(horas,unit=\"h\")\n",
    "    if ((x>=horas[0]) & (x<horas[1])):\n",
    "        return \"00\"\n",
    "    elif ((x>=horas[1]) & (x<horas[2])):\n",
    "        return \"06\"   \n",
    "    elif ((x>=horas[2]) & (x<horas[3])):\n",
    "        return \"08\"\n",
    "    elif ((x>=horas[3]) & (x<horas[4])):\n",
    "        return \"10\"\n",
    "    elif ((x>=horas[4]) & (x<horas[5])):\n",
    "        return \"12\"\n",
    "    elif ((x>=horas[5]) & (x<horas[6])):\n",
    "        return \"14\"\n",
    "    elif ((x>=horas[6]) & (x<horas[7])):\n",
    "        return \"16\"\n",
    "    elif ((x>=horas[7]) & (x<horas[8])):\n",
    "        return \"18\"\n",
    "   \n",
    "    else:\n",
    "        return \"21\"  \n",
    "    \n",
    "    "
   ]
  },
  {
   "cell_type": "code",
   "execution_count": 10,
   "metadata": {
    "collapsed": false
   },
   "outputs": [
    {
     "name": "stdout",
     "output_type": "stream",
     "text": [
      "CPU times: user 3min 42s, sys: 4.09 s, total: 3min 46s\n",
      "Wall time: 3min 59s\n"
     ]
    }
   ],
   "source": [
    "%time dataTotal[\"TRAMOHORA\"] = dataTotal[\"DHORA\"].apply(TramoHorario)"
   ]
  },
  {
   "cell_type": "markdown",
   "metadata": {},
   "source": [
    "### Una vez que ya tengo los datos clasificados y en el formato deseado, lo guardo como hdf5, para poder trabajar con ellos, pero eso lo haré en otro Notebook, para facilitar los tiempos de ejecucion en la realizacion del analisis de los datos."
   ]
  },
  {
   "cell_type": "code",
   "execution_count": 11,
   "metadata": {
    "collapsed": false
   },
   "outputs": [],
   "source": [
    "%rm multas/Multas2015.hdf5\n",
    "import h5py\n",
    "from pandas import read_hdf\n",
    " \n",
    "store = pd.HDFStore('multas/Multas2015.hdf5',mode='w')\n",
    "store.append(\"multas\",dataTotal)\n",
    "store.close()"
   ]
  },
  {
   "cell_type": "code",
   "execution_count": null,
   "metadata": {
    "collapsed": true
   },
   "outputs": [],
   "source": []
  }
 ],
 "metadata": {
  "kernelspec": {
   "display_name": "Python 2",
   "language": "python",
   "name": "python2"
  },
  "language_info": {
   "codemirror_mode": {
    "name": "ipython",
    "version": 2
   },
   "file_extension": ".py",
   "mimetype": "text/x-python",
   "name": "python",
   "nbconvert_exporter": "python",
   "pygments_lexer": "ipython2",
   "version": "2.7.11"
  }
 },
 "nbformat": 4,
 "nbformat_minor": 0
}
