{
 "cells": [
  {
   "cell_type": "markdown",
   "metadata": {},
   "source": [
    "# Prueba de evaluación 2\n",
    "\n",
    "Realizado por Araceli Macía Barrado\n",
    "\n",
    "\n",
    "## Parte 1\n",
    "\n",
    "\n",
    "En esta primera parte trabajaremos con el API REST de 4chan:\n",
    "\n",
    "https://github.com/4chan/4chan-API\n",
    "\n",
    "(es conveniente tratar de comprender los campos que devuelve el JSON antes de comenzar,\n",
    "\n",
    "siguiendo el ejemplo de clase)\n",
    "\n",
    "Se pide lo siguiente:\n",
    "\n",
    "• Obtener una muestra de dos boards de 4chan, sacando una instantánea concreta\n",
    "\n",
    "(todas las páginas de cada board). Solo es necesario obtener la información requerida\n",
    "\n",
    "para los puntos siguientes, no es necesario procesar todo.\n",
    "\n",
    "• Contrastar diferencias en la media de respuestas por post en los dos boards elegidos.\n",
    "\n",
    "• Obtener la distribución del tamaño de las imágenes en los posts de uno de los boards.\n",
    "\n",
    "\n"
   ]
  },
  {
   "cell_type": "code",
   "execution_count": 1,
   "metadata": {
    "collapsed": false,
    "scrolled": true
   },
   "outputs": [
    {
     "name": "stdout",
     "output_type": "stream",
     "text": [
      "[ 10.   1.]\n"
     ]
    },
    {
     "data": {
      "text/html": [
       "<div>\n",
       "<table border=\"1\" class=\"dataframe\">\n",
       "  <thead>\n",
       "    <tr style=\"text-align: right;\">\n",
       "      <th></th>\n",
       "      <th>title</th>\n",
       "      <th>meta_description</th>\n",
       "      <th>pages</th>\n",
       "    </tr>\n",
       "  </thead>\n",
       "  <tbody>\n",
       "    <tr>\n",
       "      <th>3</th>\n",
       "      <td>3DCG</td>\n",
       "      <td>&amp;quot;/3/ - 3DCG&amp;quot; is 4chan's board for 3D...</td>\n",
       "      <td>10.0</td>\n",
       "    </tr>\n",
       "    <tr>\n",
       "      <th>a</th>\n",
       "      <td>Anime &amp; Manga</td>\n",
       "      <td>&amp;quot;/a/ - Anime &amp;amp; Manga&amp;quot; is 4chan's...</td>\n",
       "      <td>10.0</td>\n",
       "    </tr>\n",
       "    <tr>\n",
       "      <th>aco</th>\n",
       "      <td>Adult Cartoons</td>\n",
       "      <td>&amp;quot;/aco/ - Adult Cartoons&amp;quot; is 4chan's ...</td>\n",
       "      <td>10.0</td>\n",
       "    </tr>\n",
       "    <tr>\n",
       "      <th>adv</th>\n",
       "      <td>Advice</td>\n",
       "      <td>&amp;quot;/adv/ - Advice&amp;quot; is 4chan's board fo...</td>\n",
       "      <td>10.0</td>\n",
       "    </tr>\n",
       "    <tr>\n",
       "      <th>an</th>\n",
       "      <td>Animals &amp; Nature</td>\n",
       "      <td>&amp;quot;/an/ - Animals &amp;amp; Nature&amp;quot; is 4ch...</td>\n",
       "      <td>10.0</td>\n",
       "    </tr>\n",
       "  </tbody>\n",
       "</table>\n",
       "</div>"
      ],
      "text/plain": [
       "                title                                   meta_description  \\\n",
       "3                3DCG  &quot;/3/ - 3DCG&quot; is 4chan's board for 3D...   \n",
       "a       Anime & Manga  &quot;/a/ - Anime &amp; Manga&quot; is 4chan's...   \n",
       "aco    Adult Cartoons  &quot;/aco/ - Adult Cartoons&quot; is 4chan's ...   \n",
       "adv            Advice  &quot;/adv/ - Advice&quot; is 4chan's board fo...   \n",
       "an   Animals & Nature  &quot;/an/ - Animals &amp; Nature&quot; is 4ch...   \n",
       "\n",
       "     pages  \n",
       "3     10.0  \n",
       "a     10.0  \n",
       "aco   10.0  \n",
       "adv   10.0  \n",
       "an    10.0  "
      ]
     },
     "execution_count": 1,
     "metadata": {},
     "output_type": "execute_result"
    }
   ],
   "source": [
    "import requests as rq\n",
    "r = rq.get('https://a.4cdn.org/boards.json')#no es la pagina web, es el datos que nos da el api.\n",
    "\n",
    "import json\n",
    "boards = json.loads(r.text) #pasamos el texto, y lo parsea.\n",
    "\n",
    "import pandas as pd\n",
    "import numpy as np\n",
    "\n",
    "#transformo los datos a un dataframe\n",
    "\n",
    "boardsframe = pd.DataFrame(columns=[\"title\", \"meta_description\", \"pages\"])\n",
    "\n",
    "def add_row(df, board):\n",
    "    title = board[\"title\"]\n",
    "    metadesc = board[\"meta_description\"]\n",
    "    page = int(board[\"pages\"])\n",
    "\n",
    "    df.loc[board[\"board\"]] = [title, metadesc,  page] \n",
    "    \n",
    "for row in boards[\"boards\"]:\n",
    "    add_row(boardsframe, row)\n",
    "\n",
    "    \n",
    "print boardsframe[\"pages\"].unique() #para ver los numeros distintos de paginas.\n",
    "boardsframe.head(5)  \n"
   ]
  },
  {
   "cell_type": "markdown",
   "metadata": {},
   "source": [
    "  >voy a seleccionar el de historia : **his** y el de fashion : **fa** . \n",
    "  Me parece muy curioso que todos los boards tengan 10 paginas..  los cortaran?"
   ]
  },
  {
   "cell_type": "code",
   "execution_count": 2,
   "metadata": {
    "collapsed": false
   },
   "outputs": [],
   "source": [
    "boar_fa= boardsframe.loc[\"fa\"]\n",
    "boar_his= boardsframe.loc[\"his\"]\n",
    "\n",
    "\n"
   ]
  },
  {
   "cell_type": "code",
   "execution_count": 3,
   "metadata": {
    "collapsed": false
   },
   "outputs": [
    {
     "name": "stdout",
     "output_type": "stream",
     "text": [
      "(705, 5)\n",
      "(704, 5)\n"
     ]
    }
   ],
   "source": [
    "#genero una funcion para recorrer cada board, quedarme con los datos de replies (respuestas) y fsize tamaño\n",
    "\n",
    "def recorrer_board(Datos,nombre):\n",
    "  \n",
    "    boardReturn = pd.DataFrame(columns=[\"idHilo\",\"idPost\",\"replies\", \"ext\", \"fsize\"])\n",
    "    size=Datos[2].astype(np.int32) \n",
    "    numpage=0\n",
    "    \n",
    "    for p in range(1, size):\n",
    "        page = rq.get('https://a.4cdn.org/' + nombre + '/'+ str(p) +'.json')\n",
    "        contents = json.loads(page.text)\n",
    "        numhilo = 0\n",
    "        numpage= numpage + 1\n",
    "        for trh in contents[\"threads\"]:  #cada pagina tiene threads \n",
    "            numhilo=numhilo+1\n",
    "            numpost=0\n",
    "            for post in trh[\"posts\"]:  # cada thread tiene posts. El post de la posicion 0 es el que define el thread.\n",
    "                numpost=numpost+1\n",
    "                number = int(post[\"no\"])\n",
    "                replies = 0\n",
    "                fsize = 0\n",
    "                ext=\"\"\n",
    "                if (\"replies\" in post):\n",
    "                    replies = int(post[\"replies\"])\n",
    "                if (\"fsize\" in post):\n",
    "                    fsize = float(post[\"fsize\"])\n",
    "                    \n",
    "                if (\"ext\" in post):\n",
    "                    ext = post[\"ext\"] \n",
    "                    \n",
    "                boardReturn.loc[number] = [str(numpage)+str(numhilo), numpost,replies,ext, fsize]\n",
    "    return  boardReturn  \n",
    "    \n",
    "dt_board_fa = recorrer_board(boar_fa,\"fa\")\n",
    "print dt_board_fa.shape\n",
    "dt_board_his= recorrer_board(boar_his,\"his\")\n",
    "print dt_board_his.shape"
   ]
  },
  {
   "cell_type": "code",
   "execution_count": 4,
   "metadata": {
    "collapsed": false
   },
   "outputs": [
    {
     "name": "stdout",
     "output_type": "stream",
     "text": [
      "[u'.png' u'.jpg' '' u'.gif' u'.webm']\n",
      "[u'.jpg' '' u'.png' u'.gif']\n"
     ]
    }
   ],
   "source": [
    "print dt_board_fa[\"ext\"].unique() #compruebo si todos los ficheros son imagenes\n",
    "print dt_board_his[\"ext\"].unique()"
   ]
  },
  {
   "cell_type": "markdown",
   "metadata": {},
   "source": [
    "Hay ficheros de tipo .webm, que luego voy a quitar para analizar el tamaño de las imagenes."
   ]
  },
  {
   "cell_type": "markdown",
   "metadata": {},
   "source": [
    "### Contrastar diferencias en la media de respuestas por post en los dos boards elegidos.\n"
   ]
  },
  {
   "cell_type": "code",
   "execution_count": 5,
   "metadata": {
    "collapsed": false
   },
   "outputs": [
    {
     "name": "stdout",
     "output_type": "stream",
     "text": [
      "Media de respuestas del board Fashion 8.23546099291\n",
      "Media de respuestas del board de Historia 6.53835227273\n"
     ]
    }
   ],
   "source": [
    "media_fa=dt_board_fa[\"replies\"].mean()\n",
    "print \"Media de respuestas del board Fashion\", media_fa\n",
    "media_his=dt_board_his[\"replies\"].mean()\n",
    "print \"Media de respuestas del board de Historia\", media_his\n",
    "\n"
   ]
  },
  {
   "cell_type": "code",
   "execution_count": 6,
   "metadata": {
    "collapsed": false
   },
   "outputs": [
    {
     "name": "stdout",
     "output_type": "stream",
     "text": [
      "idHilo\n",
      "11       0.0\n",
      "110    107.0\n",
      "111     16.0\n",
      "112     75.0\n",
      "113      7.0\n",
      "Name: replies, dtype: float64\n"
     ]
    }
   ],
   "source": [
    " #agrupo por el id de hilo ( formado por pagina e thread.), para obtener las respuestas de los post \n",
    "byHilo = dt_board_fa.groupby(\"idHilo\")                                    \n",
    "data_fa= byHilo[\"replies\"].sum()\n",
    "print data_fa[0:5]  #111    269.0  en la pagina 1, el thread 1, y el primer post tiene 269 respuestas.\n",
    "byHilo = dt_board_his.groupby(\"idHilo\") #agrupo por el id de hilo ( formado por pagina e thread.)\n",
    "data_his= byHilo[\"replies\"].sum()\n",
    "\n"
   ]
  },
  {
   "cell_type": "code",
   "execution_count": 7,
   "metadata": {
    "collapsed": false
   },
   "outputs": [
    {
     "data": {
      "text/plain": [
       "<matplotlib.text.Text at 0x1172cf350>"
      ]
     },
     "execution_count": 7,
     "metadata": {},
     "output_type": "execute_result"
    },
    {
     "data": {
      "image/png": "[encoded data removed]",
      "text/plain": [
       "<matplotlib.figure.Figure at 0x114444e90>"
      ]
     },
     "metadata": {},
     "output_type": "display_data"
    }
   ],
   "source": [
    "import matplotlib.pyplot as plt\n",
    "%matplotlib inline\n",
    "plt.figure(1)\n",
    "plt.subplot(121)\n",
    "plt.hist(data_fa, bins=15)\n",
    "plt.text(70, 80, \"Fashion\",fontsize=20)\n",
    "\n",
    "plt.subplot(122)\n",
    "plt.hist(data_his,bins=15)\n",
    "plt.text(70, 80, \"Historia\",fontsize=20)\n",
    "\n",
    "\n"
   ]
  },
  {
   "cell_type": "markdown",
   "metadata": {},
   "source": [
    "En los graficos se puede ver que el numero de post sin respuesta es un poco mayor en Historia.\n",
    "Y que existen mas post con alto numero de respuestas ( entre 100 y 300) en el post Fashion que en el de historia..  \n",
    "Se confirma que la media de respuestas en los post de Fashion es superior.  Se ve que la gente tiene mas tema para hablar de cosas Fashion que de Historia.."
   ]
  },
  {
   "cell_type": "markdown",
   "metadata": {},
   "source": [
    "###  Obtener la distribución del tamaño de las imágenes en los posts de uno de los boards.\n"
   ]
  },
  {
   "cell_type": "code",
   "execution_count": 8,
   "metadata": {
    "collapsed": false
   },
   "outputs": [
    {
     "name": "stdout",
     "output_type": "stream",
     "text": [
      "         idHilo  idPost  replies   ext    fsize\n",
      "6310205      11     1.0      0.0  .png  29410.0\n",
      "11848443     12     1.0    282.0  .jpg  95379.0\n",
      "[u'.png' u'.jpg' u'.gif']\n",
      "        idHilo  idPost  replies   ext      fsize\n",
      "27939       11     1.0      0.0  .jpg  2708828.0\n",
      "1814554     12     1.0      3.0  .jpg    16565.0\n"
     ]
    }
   ],
   "source": [
    "tam_fa= dt_board_fa[dt_board_fa[\"fsize\"]>0]  #me quedo con los datos donde el tamaño sea > 0\n",
    "print tam_fa.head(2)   \n",
    "tam_his= dt_board_his[dt_board_his[\"fsize\"]>0]  #me quedo con los datos donde el tamaño sea > 0\n",
    "\n",
    "#tengo que quitar los de tipo webm, que no son imagenes.\n",
    "tam_fa= tam_fa[tam_fa[\"ext\"]!=\".webm\"] #los webm son videos, los quito.\n",
    "print tam_fa[\"ext\"].unique()\n",
    "print tam_his.head(2)    \n",
    "\n"
   ]
  },
  {
   "cell_type": "code",
   "execution_count": 9,
   "metadata": {
    "collapsed": false
   },
   "outputs": [
    {
     "name": "stdout",
     "output_type": "stream",
     "text": [
      "<class 'matplotlib.axes._subplots.AxesSubplot'>\n"
     ]
    },
    {
     "data": {
      "image/png": "[encoded data removed]",
      "text/plain": [
       "<matplotlib.figure.Figure at 0x119625510>"
      ]
     },
     "metadata": {},
     "output_type": "display_data"
    }
   ],
   "source": [
    "import seaborn as sns  #se importa como sns. \n",
    "ax = sns.boxplot(data=tam_fa) \n",
    "print type(ax) #pinto con esta libreria el dataframe entero."
   ]
  },
  {
   "cell_type": "code",
   "execution_count": 10,
   "metadata": {
    "collapsed": false
   },
   "outputs": [
    {
     "data": {
      "text/plain": [
       "<matplotlib.axes._subplots.AxesSubplot at 0x1138c5150>"
      ]
     },
     "execution_count": 10,
     "metadata": {},
     "output_type": "execute_result"
    },
    {
     "data": {
      "image/png": "[encoded data removed]",
      "text/plain": [
       "<matplotlib.figure.Figure at 0x11798c750>"
      ]
     },
     "metadata": {},
     "output_type": "display_data"
    }
   ],
   "source": [
    "sns.distplot(tam_fa[\"fsize\"], hist=False, rug=False) "
   ]
  },
  {
   "cell_type": "markdown",
   "metadata": {},
   "source": [
    "> tiene mucha cola de valores a la derecha..   no sigue una distribucion normal. Hay muchas fotos pequeñas.\n",
    "como vemos en el bloxplot tiene muchos outliers, los voy a quitar.\n"
   ]
  },
  {
   "cell_type": "code",
   "execution_count": 11,
   "metadata": {
    "collapsed": false
   },
   "outputs": [
    {
     "name": "stdout",
     "output_type": "stream",
     "text": [
      "(182, 5)\n"
     ]
    }
   ],
   "source": [
    "#segun veo en la grafica de boxplot, hay valores por encima de 50000.. asi que los filtro.\n",
    "print tam_fa[tam_fa[\"fsize\"]>50000].shape #para ver el numero de valores que voy a quitar.\n",
    "tam_fa= tam_fa[tam_fa[\"fsize\"]<50000]  #me quedo con los datos que sean mas pequeños."
   ]
  },
  {
   "cell_type": "code",
   "execution_count": 12,
   "metadata": {
    "collapsed": false
   },
   "outputs": [
    {
     "name": "stdout",
     "output_type": "stream",
     "text": [
      "<class 'matplotlib.axes._subplots.AxesSubplot'>\n"
     ]
    },
    {
     "data": {
      "image/png": "[encoded data removed]",
      "text/plain": [
       "<matplotlib.figure.Figure at 0x119978050>"
      ]
     },
     "metadata": {},
     "output_type": "display_data"
    }
   ],
   "source": [
    "ax = sns.boxplot(data=tam_fa) \n",
    "print type(ax) #pinto con esta libreria el dataframe entero.\n"
   ]
  },
  {
   "cell_type": "markdown",
   "metadata": {},
   "source": [
    "He eliminado los outliers, ahora parece que la media del tamaño esta en el centro, y que la varianza es igual en un sentido que en otro..  Segun el boxplot podria parecerse a una distribucion normal."
   ]
  },
  {
   "cell_type": "code",
   "execution_count": 13,
   "metadata": {
    "collapsed": false
   },
   "outputs": [
    {
     "data": {
      "text/plain": [
       "<matplotlib.axes._subplots.AxesSubplot at 0x1199b1050>"
      ]
     },
     "execution_count": 13,
     "metadata": {},
     "output_type": "execute_result"
    },
    {
     "data": {
      "image/png": "[encoded data removed]",
      "text/plain": [
       "<matplotlib.figure.Figure at 0x11996c910>"
      ]
     },
     "metadata": {},
     "output_type": "display_data"
    }
   ],
   "source": [
    "sns.distplot(tam_fa[\"fsize\"], hist=False, rug=False) "
   ]
  },
  {
   "cell_type": "code",
   "execution_count": 14,
   "metadata": {
    "collapsed": false
   },
   "outputs": [
    {
     "name": "stdout",
     "output_type": "stream",
     "text": [
      "2.29632370798e-06\n"
     ]
    }
   ],
   "source": [
    "from scipy.stats.mstats import normaltest  #Estudiamos si la distribucion es normal o no.\n",
    "_, pval1 = normaltest(tam_fa[\"fsize\"])\n",
    "print pval1"
   ]
  },
  {
   "cell_type": "markdown",
   "metadata": {},
   "source": [
    ">> Con un valor negativo, se descarta la hipotesis de normalidad. La distribucion del tamaño de las imagenes que suben los usuarios al post Fashion no es normal.\n"
   ]
  },
  {
   "cell_type": "code",
   "execution_count": null,
   "metadata": {
    "collapsed": true
   },
   "outputs": [],
   "source": []
  }
 ],
 "metadata": {
  "kernelspec": {
   "display_name": "Python 2",
   "language": "python",
   "name": "python2"
  },
  "language_info": {
   "codemirror_mode": {
    "name": "ipython",
    "version": 2
   },
   "file_extension": ".py",
   "mimetype": "text/x-python",
   "name": "python",
   "nbconvert_exporter": "python",
   "pygments_lexer": "ipython2",
   "version": "2.7.11"
  }
 },
 "nbformat": 4,
 "nbformat_minor": 0
}
