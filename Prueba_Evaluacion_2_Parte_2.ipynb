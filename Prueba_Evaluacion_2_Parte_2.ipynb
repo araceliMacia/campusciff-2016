{
 "cells": [
  {
   "cell_type": "markdown",
   "metadata": {},
   "source": [
    "# Prueba de evaluación 2\n",
    "\n",
    "Realizado por Araceli Macía Barrado\n",
    "\n",
    "## Parte 2"
   ]
  },
  {
   "cell_type": "markdown",
   "metadata": {},
   "source": [
    "En esta segunda parte trabajaremos con información en XML. \n",
    "\n",
    "Concretamente, el gobierno británico nos ofrece datasets sobre eventos de tráfico:\n",
    "\n",
    "https://data.gov.uk/dataset/live-traffic-information-from-the-highways-agency-road-network\n",
    "\n",
    "\n",
    "Trabajaremos con los “Unplanned Events” que se proporcionan en un formato XML. Se puede\n",
    "descargar de esta URL:\n",
    "http://hatrafficinfo.dft.gov.uk/feeds/datex/England/UnplannedEvent/content.xml\n",
    "\n",
    "Concretamente, contiene un conjunto de situaciones (“situation”) y dentro de la descripción\n",
    "de las situaciones, nos interesa el impacto (“impact”).\n",
    "\n",
    "Investiga el impacto de los eventos no planificados en las variables que aporten algo de\n",
    "información. \n",
    "\n",
    "Por ejemplo, la variable “capacityRemaining” indica la capacidad de la vía que\n",
    "la situación dejó sin afectar, y en ocasiones indica obstrucción total (valor 0.0) pero en otros\n",
    "casos sólo parcial. \n",
    "\n",
    "Estudia descriptivamente al menos 3 de las variables, sean numéricas o\n",
    "categóricas, dentro de las que describen el impacto solamente."
   ]
  },
  {
   "cell_type": "code",
   "execution_count": 1,
   "metadata": {
    "collapsed": false
   },
   "outputs": [
    {
     "name": "stdout",
     "output_type": "stream",
     "text": [
      "root.tag {http://datex2.eu/schema/1_0/1_0}d2LogicalModel\n",
      "{'modelBaseVersion': '1.0'}\n",
      "counchildren 2\n"
     ]
    }
   ],
   "source": [
    "#Recupero el fichero con la informacion.\n",
    "\n",
    "from urllib import urlretrieve\n",
    "link = 'http://hatrafficinfo.dft.gov.uk/feeds/datex/England/UnplannedEvent/content.xml'\n",
    "urlretrieve(link, \"UnplannedEvent.xml\")  \n",
    "\n",
    "\n",
    "#cargando datos en memoria.\n",
    "from lxml import objectify #biblioteca lxml..API objectify.\n",
    "parsed = objectify.parse('UnplannedEvent.xml') #analisis sintactico del objeto,\n",
    "root = parsed.getroot() #cogemos la raiz del arbol. Nodo que contiene al resto.\n",
    "\n",
    "print \"root.tag\", root.tag\n",
    "print root.attrib #atributos no tiene. Si dentro del tag hubiera algo definido.\n",
    "print \"counchildren\", root.countchildren() \n",
    "\n",
    "\n",
    "            "
   ]
  },
  {
   "cell_type": "code",
   "execution_count": 2,
   "metadata": {
    "collapsed": true
   },
   "outputs": [],
   "source": [
    "#Recorremos el fichero xml para tratar los datos.\n",
    "capacityRemaining=[] #capacidad de circular por esa via.\n",
    "numberOfLanesRestricted=[]  #numero de vias restringidas\n",
    "numberOfOperationalLanes =[] #numero de vias que esta operativas\n",
    "originalNumberOfLanes=[] #numero total de vias de la calle\n",
    "trafficRestrictionType=[] #tipo de restriccion\n",
    "impactOnTraffic=[]\n",
    "\n",
    "for rowPrin in root.payloadPublication:\n",
    "    for rowSituacion in rowPrin.situation: #root. de la lista de todos los elementos situation que esta dentro de la raiz.\n",
    "        for rowSitRecord in rowSituacion.situationRecord:\n",
    "            for rowImpac in rowSitRecord.impact:                   \n",
    "                capacityRemaining.append(rowImpac.impactDetails.capacityRemaining.text)\n",
    "                numberOfLanesRestricted.append(rowImpac.impactDetails.numberOfLanesRestricted.text)\n",
    "                numberOfOperationalLanes.append(rowImpac.impactDetails.numberOfOperationalLanes.text)\n",
    "                originalNumberOfLanes.append(rowImpac.impactDetails.originalNumberOfLanes.text)\n",
    "                trafficRestrictionType.append(rowImpac.impactDetails.trafficRestrictionType.text) \n",
    "                impactOnTraffic.append(rowImpac.impactOnTraffic.text)            \n",
    "                \n",
    "                \n",
    "                \n",
    "                        "
   ]
  },
  {
   "cell_type": "code",
   "execution_count": 3,
   "metadata": {
    "collapsed": false
   },
   "outputs": [
    {
     "data": {
      "text/plain": [
       "6"
      ]
     },
     "execution_count": 3,
     "metadata": {},
     "output_type": "execute_result"
    }
   ],
   "source": [
    "len(capacityRemaining)"
   ]
  },
  {
   "cell_type": "code",
   "execution_count": 4,
   "metadata": {
    "collapsed": true
   },
   "outputs": [],
   "source": [
    "import pandas as pd\n",
    "data = pd.DataFrame()\n",
    "data['capacity'] = capacityRemaining\n",
    "data['restricted'] = numberOfLanesRestricted\n",
    "data['operational'] = numberOfOperationalLanes\n",
    "data['original'] = originalNumberOfLanes\n",
    "data['tipo'] = trafficRestrictionType\n",
    "data['impacto'] = impactOnTraffic\n"
   ]
  },
  {
   "cell_type": "code",
   "execution_count": 5,
   "metadata": {
    "collapsed": false
   },
   "outputs": [
    {
     "data": {
      "text/html": [
       "<div>\n",
       "<table border=\"1\" class=\"dataframe\">\n",
       "  <thead>\n",
       "    <tr style=\"text-align: right;\">\n",
       "      <th></th>\n",
       "      <th>capacity</th>\n",
       "      <th>restricted</th>\n",
       "      <th>operational</th>\n",
       "      <th>original</th>\n",
       "      <th>tipo</th>\n",
       "      <th>impacto</th>\n",
       "    </tr>\n",
       "  </thead>\n",
       "  <tbody>\n",
       "    <tr>\n",
       "      <th>0</th>\n",
       "      <td>75.0</td>\n",
       "      <td>1</td>\n",
       "      <td>3</td>\n",
       "      <td>4</td>\n",
       "      <td>carriagewayPartiallyObstructed</td>\n",
       "      <td>heavy</td>\n",
       "    </tr>\n",
       "    <tr>\n",
       "      <th>1</th>\n",
       "      <td>0.0</td>\n",
       "      <td>2</td>\n",
       "      <td>0</td>\n",
       "      <td>2</td>\n",
       "      <td>carriagewayBlocked</td>\n",
       "      <td>impossible</td>\n",
       "    </tr>\n",
       "    <tr>\n",
       "      <th>2</th>\n",
       "      <td>0.0</td>\n",
       "      <td>1</td>\n",
       "      <td>0</td>\n",
       "      <td>1</td>\n",
       "      <td>carriagewayBlocked</td>\n",
       "      <td>impossible</td>\n",
       "    </tr>\n",
       "    <tr>\n",
       "      <th>3</th>\n",
       "      <td>0.0</td>\n",
       "      <td>1</td>\n",
       "      <td>0</td>\n",
       "      <td>1</td>\n",
       "      <td>carriagewayBlocked</td>\n",
       "      <td>impossible</td>\n",
       "    </tr>\n",
       "    <tr>\n",
       "      <th>4</th>\n",
       "      <td>0.0</td>\n",
       "      <td>1</td>\n",
       "      <td>0</td>\n",
       "      <td>1</td>\n",
       "      <td>carriagewayBlocked</td>\n",
       "      <td>impossible</td>\n",
       "    </tr>\n",
       "    <tr>\n",
       "      <th>5</th>\n",
       "      <td>33.0</td>\n",
       "      <td>2</td>\n",
       "      <td>1</td>\n",
       "      <td>3</td>\n",
       "      <td>carriagewayPartiallyObstructed</td>\n",
       "      <td>freeFlow</td>\n",
       "    </tr>\n",
       "  </tbody>\n",
       "</table>\n",
       "</div>"
      ],
      "text/plain": [
       "  capacity restricted operational original                            tipo  \\\n",
       "0     75.0          1           3        4  carriagewayPartiallyObstructed   \n",
       "1      0.0          2           0        2              carriagewayBlocked   \n",
       "2      0.0          1           0        1              carriagewayBlocked   \n",
       "3      0.0          1           0        1              carriagewayBlocked   \n",
       "4      0.0          1           0        1              carriagewayBlocked   \n",
       "5     33.0          2           1        3  carriagewayPartiallyObstructed   \n",
       "\n",
       "      impacto  \n",
       "0       heavy  \n",
       "1  impossible  \n",
       "2  impossible  \n",
       "3  impossible  \n",
       "4  impossible  \n",
       "5    freeFlow  "
      ]
     },
     "execution_count": 5,
     "metadata": {},
     "output_type": "execute_result"
    }
   ],
   "source": [
    "data"
   ]
  },
  {
   "cell_type": "code",
   "execution_count": 6,
   "metadata": {
    "collapsed": false
   },
   "outputs": [
    {
     "name": "stdout",
     "output_type": "stream",
     "text": [
      "<class 'pandas.core.frame.DataFrame'>\n",
      "RangeIndex: 6 entries, 0 to 5\n",
      "Data columns (total 6 columns):\n",
      "capacity       6 non-null object\n",
      "restricted     6 non-null object\n",
      "operational    6 non-null object\n",
      "original       6 non-null object\n",
      "tipo           6 non-null object\n",
      "impacto        6 non-null object\n",
      "dtypes: object(6)\n",
      "memory usage: 360.0+ bytes\n"
     ]
    }
   ],
   "source": [
    "data.info()"
   ]
  },
  {
   "cell_type": "markdown",
   "metadata": {},
   "source": [
    "Tengo que hacer una conversion de tipos."
   ]
  },
  {
   "cell_type": "code",
   "execution_count": 7,
   "metadata": {
    "collapsed": false
   },
   "outputs": [
    {
     "name": "stdout",
     "output_type": "stream",
     "text": [
      "<class 'pandas.core.frame.DataFrame'>\n",
      "RangeIndex: 6 entries, 0 to 5\n",
      "Data columns (total 6 columns):\n",
      "capacity       6 non-null float64\n",
      "restricted     6 non-null int64\n",
      "operational    6 non-null int64\n",
      "original       6 non-null int64\n",
      "tipo           6 non-null object\n",
      "impacto        6 non-null object\n",
      "dtypes: float64(1), int64(3), object(2)\n",
      "memory usage: 360.0+ bytes\n"
     ]
    }
   ],
   "source": [
    "#convierto los datos de las columnas.\n",
    "data['capacity']=data['capacity'].astype(float)\n",
    "data['restricted']=data['restricted'].astype(int)\n",
    "data['operational']=data['operational'].astype(int)\n",
    "data['original']=data['original'].astype(int)\n",
    "data['tipo']=data['tipo'].astype(str)\n",
    "data['impacto']=data['impacto'].astype(str)\n",
    "\n",
    "\n",
    "\n",
    "data.info()"
   ]
  },
  {
   "cell_type": "code",
   "execution_count": 8,
   "metadata": {
    "collapsed": false
   },
   "outputs": [
    {
     "data": {
      "text/html": [
       "<div>\n",
       "<table border=\"1\" class=\"dataframe\">\n",
       "  <thead>\n",
       "    <tr style=\"text-align: right;\">\n",
       "      <th></th>\n",
       "      <th>capacity</th>\n",
       "      <th>restricted</th>\n",
       "      <th>operational</th>\n",
       "      <th>original</th>\n",
       "      <th>tipo</th>\n",
       "      <th>impacto</th>\n",
       "    </tr>\n",
       "  </thead>\n",
       "  <tbody>\n",
       "    <tr>\n",
       "      <th>0</th>\n",
       "      <td>75.0</td>\n",
       "      <td>1</td>\n",
       "      <td>3</td>\n",
       "      <td>4</td>\n",
       "      <td>carriagewayPartiallyObstructed</td>\n",
       "      <td>heavy</td>\n",
       "    </tr>\n",
       "    <tr>\n",
       "      <th>1</th>\n",
       "      <td>0.0</td>\n",
       "      <td>2</td>\n",
       "      <td>0</td>\n",
       "      <td>2</td>\n",
       "      <td>carriagewayBlocked</td>\n",
       "      <td>impossible</td>\n",
       "    </tr>\n",
       "    <tr>\n",
       "      <th>2</th>\n",
       "      <td>0.0</td>\n",
       "      <td>1</td>\n",
       "      <td>0</td>\n",
       "      <td>1</td>\n",
       "      <td>carriagewayBlocked</td>\n",
       "      <td>impossible</td>\n",
       "    </tr>\n",
       "    <tr>\n",
       "      <th>3</th>\n",
       "      <td>0.0</td>\n",
       "      <td>1</td>\n",
       "      <td>0</td>\n",
       "      <td>1</td>\n",
       "      <td>carriagewayBlocked</td>\n",
       "      <td>impossible</td>\n",
       "    </tr>\n",
       "    <tr>\n",
       "      <th>4</th>\n",
       "      <td>0.0</td>\n",
       "      <td>1</td>\n",
       "      <td>0</td>\n",
       "      <td>1</td>\n",
       "      <td>carriagewayBlocked</td>\n",
       "      <td>impossible</td>\n",
       "    </tr>\n",
       "    <tr>\n",
       "      <th>5</th>\n",
       "      <td>33.0</td>\n",
       "      <td>2</td>\n",
       "      <td>1</td>\n",
       "      <td>3</td>\n",
       "      <td>carriagewayPartiallyObstructed</td>\n",
       "      <td>freeFlow</td>\n",
       "    </tr>\n",
       "  </tbody>\n",
       "</table>\n",
       "</div>"
      ],
      "text/plain": [
       "   capacity  restricted  operational  original  \\\n",
       "0      75.0           1            3         4   \n",
       "1       0.0           2            0         2   \n",
       "2       0.0           1            0         1   \n",
       "3       0.0           1            0         1   \n",
       "4       0.0           1            0         1   \n",
       "5      33.0           2            1         3   \n",
       "\n",
       "                             tipo     impacto  \n",
       "0  carriagewayPartiallyObstructed       heavy  \n",
       "1              carriagewayBlocked  impossible  \n",
       "2              carriagewayBlocked  impossible  \n",
       "3              carriagewayBlocked  impossible  \n",
       "4              carriagewayBlocked  impossible  \n",
       "5  carriagewayPartiallyObstructed    freeFlow  "
      ]
     },
     "execution_count": 8,
     "metadata": {},
     "output_type": "execute_result"
    }
   ],
   "source": [
    "data"
   ]
  },
  {
   "cell_type": "markdown",
   "metadata": {},
   "source": [
    "Bueno, pues analizando los datos, a simple vista, el valor de capacity es el numero de carriles operacionales dividido entre el total de carriles originales. Este dato nos da la medida de cual es la capacidad de la calle. \n",
    "De acuerdo a este dato, se identifica el tipo de Situacion ( solo hay 2) y el impacto que tiene para el trafico.\n",
    "\n",
    "Los datos tipo e impacto son valores categoricas.\n",
    "\n"
   ]
  },
  {
   "cell_type": "code",
   "execution_count": 9,
   "metadata": {
    "collapsed": false
   },
   "outputs": [
    {
     "data": {
      "text/plain": [
       "<matplotlib.axes._subplots.AxesSubplot at 0x114590290>"
      ]
     },
     "execution_count": 9,
     "metadata": {},
     "output_type": "execute_result"
    },
    {
     "data": {
      "image/png": "[encoded data removed]",
      "text/plain": [
       "<matplotlib.figure.Figure at 0x114569910>"
      ]
     },
     "metadata": {},
     "output_type": "display_data"
    }
   ],
   "source": [
    "%matplotlib inline\n",
    "\n",
    "import matplotlib.pyplot as plt\n",
    "\n",
    "graf = pd.crosstab([data.original, data.restricted], data.impacto)\n",
    "graf.plot(kind='bar', stacked=True, color=['red','blue','green'], grid=False)\n",
    "\n",
    "\n"
   ]
  },
  {
   "cell_type": "code",
   "execution_count": 10,
   "metadata": {
    "collapsed": false
   },
   "outputs": [
    {
     "data": {
      "text/plain": [
       "<seaborn.axisgrid.FacetGrid at 0x1193f23d0>"
      ]
     },
     "execution_count": 10,
     "metadata": {},
     "output_type": "execute_result"
    },
    {
     "data": {
      "image/png": "[encoded data removed]",
      "text/plain": [
       "<matplotlib.figure.Figure at 0x1193f2410>"
      ]
     },
     "metadata": {},
     "output_type": "display_data"
    }
   ],
   "source": [
    "import seaborn as sns  #se importa como sns. \n",
    "\n",
    "sns.factorplot('original','restricted',hue='impacto',data=data)\n"
   ]
  },
  {
   "cell_type": "markdown",
   "metadata": {
    "collapsed": true
   },
   "source": [
    "Con la cantidad de datos existentes, poco se puede ver en los graficos. \n",
    "Cuando el numero de carriles originales es igual al numero de carriles restringidos, el trafico se califica como imposible. \n"
   ]
  },
  {
   "cell_type": "code",
   "execution_count": null,
   "metadata": {
    "collapsed": true
   },
   "outputs": [],
   "source": []
  }
 ],
 "metadata": {
  "kernelspec": {
   "display_name": "Python 2",
   "language": "python",
   "name": "python2"
  },
  "language_info": {
   "codemirror_mode": {
    "name": "ipython",
    "version": 2
   },
   "file_extension": ".py",
   "mimetype": "text/x-python",
   "name": "python",
   "nbconvert_exporter": "python",
   "pygments_lexer": "ipython2",
   "version": "2.7.11"
  }
 },
 "nbformat": 4,
 "nbformat_minor": 0
}
